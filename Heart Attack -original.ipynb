{
 "cells": [
  {
   "cell_type": "markdown",
   "metadata": {
    "id": "ATaQqKC9qGVV"
   },
   "source": [
    "# Heart Attack Analysis\n",
    "---\n",
    "\n",
    "## Traditionoal ML :: Deep Learning 예측 비교\n",
    "\n",
    "\n",
    "\n",
    "\n",
    "\n",
    "\n"
   ]
  },
  {
   "cell_type": "code",
   "execution_count": 4,
   "metadata": {
    "colab": {
     "base_uri": "https://localhost:8080/",
     "height": 76,
     "resources": {
      "http://localhost:8080/nbextensions/google.colab/files.js": {
       "data": "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",
       "headers": [
        [
         "content-type",
         "application/javascript"
        ]
       ],
       "ok": true,
       "status": 200,
       "status_text": ""
      }
     }
    },
    "executionInfo": {
     "elapsed": 6300,
     "status": "ok",
     "timestamp": 1626997363947,
     "user": {
      "displayName": "박건우",
      "photoUrl": "https://lh3.googleusercontent.com/a-/AOh14GgFlyE8ayXc62fZE_N3bCvAUBwBI5fuDaHYLi24=s64",
      "userId": "06958141074934964431"
     },
     "user_tz": -540
    },
    "id": "onmsY_tXulfe",
    "outputId": "f2eb5473-e924-4cdf-d60f-45eadad6dffb"
   },
   "outputs": [
    {
     "data": {
      "text/html": [
       "\n",
       "     <input type=\"file\" id=\"files-b80fab9a-daf4-4bc0-ac1c-21431bd24f45\" name=\"files[]\" multiple disabled\n",
       "        style=\"border:none\" />\n",
       "     <output id=\"result-b80fab9a-daf4-4bc0-ac1c-21431bd24f45\">\n",
       "      Upload widget is only available when the cell has been executed in the\n",
       "      current browser session. Please rerun this cell to enable.\n",
       "      </output>\n",
       "      <script src=\"/nbextensions/google.colab/files.js\"></script> "
      ],
      "text/plain": [
       "<IPython.core.display.HTML object>"
      ]
     },
     "metadata": {
      "tags": []
     },
     "output_type": "display_data"
    },
    {
     "name": "stdout",
     "output_type": "stream",
     "text": [
      "Saving heart.csv to heart.csv\n"
     ]
    }
   ],
   "source": [
    "from google.colab import files\n",
    "uploaded = files.upload()"
   ]
  },
  {
   "cell_type": "markdown",
   "metadata": {
    "id": "C5B1XknsBdbr"
   },
   "source": [
    "# 1. Data Preprocessing\n",
    "\n",
    "---\n",
    "\n"
   ]
  },
  {
   "cell_type": "code",
   "execution_count": 1,
   "metadata": {
    "executionInfo": {
     "elapsed": 2197,
     "status": "ok",
     "timestamp": 1626997494870,
     "user": {
      "displayName": "박건우",
      "photoUrl": "https://lh3.googleusercontent.com/a-/AOh14GgFlyE8ayXc62fZE_N3bCvAUBwBI5fuDaHYLi24=s64",
      "userId": "06958141074934964431"
     },
     "user_tz": -540
    },
    "id": "ZFX3nchiurtW"
   },
   "outputs": [],
   "source": [
    "import pandas as pd\n",
    "import numpy as np\n",
    "import matplotlib.pyplot as plt\n",
    "import seaborn as sns\n",
    "import os\n",
    "import tensorflow as tf\n",
    "from tensorflow import keras \n",
    "from tensorflow.keras import layers\n",
    "from tensorflow.keras import datasets, utils\n",
    "from tensorflow.keras import models, layers, activations, initializers, losses, optimizers, metrics, regularizers\n",
    "import warnings\n",
    "warnings.filterwarnings(\"ignore\")\n",
    "\n",
    "import IPython\n",
    "from sklearn.preprocessing import LabelEncoder\n",
    "from sklearn import datasets, model_selection, linear_model, ensemble,neighbors, preprocessing\n",
    "from sklearn.metrics import mean_squared_error,accuracy_score\n",
    "from sklearn.model_selection import train_test_split\n",
    "from xgboost import plot_importance\n",
    "from sklearn.compose import ColumnTransformer\n",
    "from sklearn.preprocessing import StandardScaler\n",
    "from sklearn.preprocessing import RobustScaler\n",
    "from sklearn.preprocessing import MinMaxScaler\n",
    "from keras.layers import Dense, Activation"
   ]
  },
  {
   "cell_type": "code",
   "execution_count": 2,
   "metadata": {
    "executionInfo": {
     "elapsed": 13,
     "status": "ok",
     "timestamp": 1626997494874,
     "user": {
      "displayName": "박건우",
      "photoUrl": "https://lh3.googleusercontent.com/a-/AOh14GgFlyE8ayXc62fZE_N3bCvAUBwBI5fuDaHYLi24=s64",
      "userId": "06958141074934964431"
     },
     "user_tz": -540
    },
    "id": "_FmJvTFvuuRn"
   },
   "outputs": [],
   "source": [
    "df = pd.read_csv(\"/content/heart.csv\")"
   ]
  },
  {
   "cell_type": "code",
   "execution_count": 3,
   "metadata": {
    "executionInfo": {
     "elapsed": 12,
     "status": "ok",
     "timestamp": 1626997494876,
     "user": {
      "displayName": "박건우",
      "photoUrl": "https://lh3.googleusercontent.com/a-/AOh14GgFlyE8ayXc62fZE_N3bCvAUBwBI5fuDaHYLi24=s64",
      "userId": "06958141074934964431"
     },
     "user_tz": -540
    },
    "id": "B28-4AT34UR_"
   },
   "outputs": [],
   "source": [
    "heart_target = df[['output']].copy()\n",
    "heart_data = df.copy()\n",
    "del heart_data['output']"
   ]
  },
  {
   "cell_type": "code",
   "execution_count": 4,
   "metadata": {
    "colab": {
     "base_uri": "https://localhost:8080/",
     "height": 204
    },
    "executionInfo": {
     "elapsed": 11,
     "status": "ok",
     "timestamp": 1626997494877,
     "user": {
      "displayName": "박건우",
      "photoUrl": "https://lh3.googleusercontent.com/a-/AOh14GgFlyE8ayXc62fZE_N3bCvAUBwBI5fuDaHYLi24=s64",
      "userId": "06958141074934964431"
     },
     "user_tz": -540
    },
    "id": "ciC8vxsT9F9W",
    "outputId": "9677949c-677c-4833-a6d4-4ca671f8b12d"
   },
   "outputs": [
    {
     "data": {
      "text/html": [
       "<div>\n",
       "<style scoped>\n",
       "    .dataframe tbody tr th:only-of-type {\n",
       "        vertical-align: middle;\n",
       "    }\n",
       "\n",
       "    .dataframe tbody tr th {\n",
       "        vertical-align: top;\n",
       "    }\n",
       "\n",
       "    .dataframe thead th {\n",
       "        text-align: right;\n",
       "    }\n",
       "</style>\n",
       "<table border=\"1\" class=\"dataframe\">\n",
       "  <thead>\n",
       "    <tr style=\"text-align: right;\">\n",
       "      <th></th>\n",
       "      <th>age</th>\n",
       "      <th>sex</th>\n",
       "      <th>cp</th>\n",
       "      <th>trtbps</th>\n",
       "      <th>chol</th>\n",
       "      <th>fbs</th>\n",
       "      <th>restecg</th>\n",
       "      <th>thalachh</th>\n",
       "      <th>exng</th>\n",
       "      <th>oldpeak</th>\n",
       "      <th>slp</th>\n",
       "      <th>caa</th>\n",
       "      <th>thall</th>\n",
       "      <th>output</th>\n",
       "    </tr>\n",
       "  </thead>\n",
       "  <tbody>\n",
       "    <tr>\n",
       "      <th>0</th>\n",
       "      <td>63</td>\n",
       "      <td>1</td>\n",
       "      <td>3</td>\n",
       "      <td>145</td>\n",
       "      <td>233</td>\n",
       "      <td>1</td>\n",
       "      <td>0</td>\n",
       "      <td>150</td>\n",
       "      <td>0</td>\n",
       "      <td>2.3</td>\n",
       "      <td>0</td>\n",
       "      <td>0</td>\n",
       "      <td>1</td>\n",
       "      <td>1</td>\n",
       "    </tr>\n",
       "    <tr>\n",
       "      <th>1</th>\n",
       "      <td>37</td>\n",
       "      <td>1</td>\n",
       "      <td>2</td>\n",
       "      <td>130</td>\n",
       "      <td>250</td>\n",
       "      <td>0</td>\n",
       "      <td>1</td>\n",
       "      <td>187</td>\n",
       "      <td>0</td>\n",
       "      <td>3.5</td>\n",
       "      <td>0</td>\n",
       "      <td>0</td>\n",
       "      <td>2</td>\n",
       "      <td>1</td>\n",
       "    </tr>\n",
       "    <tr>\n",
       "      <th>2</th>\n",
       "      <td>41</td>\n",
       "      <td>0</td>\n",
       "      <td>1</td>\n",
       "      <td>130</td>\n",
       "      <td>204</td>\n",
       "      <td>0</td>\n",
       "      <td>0</td>\n",
       "      <td>172</td>\n",
       "      <td>0</td>\n",
       "      <td>1.4</td>\n",
       "      <td>2</td>\n",
       "      <td>0</td>\n",
       "      <td>2</td>\n",
       "      <td>1</td>\n",
       "    </tr>\n",
       "    <tr>\n",
       "      <th>3</th>\n",
       "      <td>56</td>\n",
       "      <td>1</td>\n",
       "      <td>1</td>\n",
       "      <td>120</td>\n",
       "      <td>236</td>\n",
       "      <td>0</td>\n",
       "      <td>1</td>\n",
       "      <td>178</td>\n",
       "      <td>0</td>\n",
       "      <td>0.8</td>\n",
       "      <td>2</td>\n",
       "      <td>0</td>\n",
       "      <td>2</td>\n",
       "      <td>1</td>\n",
       "    </tr>\n",
       "    <tr>\n",
       "      <th>4</th>\n",
       "      <td>57</td>\n",
       "      <td>0</td>\n",
       "      <td>0</td>\n",
       "      <td>120</td>\n",
       "      <td>354</td>\n",
       "      <td>0</td>\n",
       "      <td>1</td>\n",
       "      <td>163</td>\n",
       "      <td>1</td>\n",
       "      <td>0.6</td>\n",
       "      <td>2</td>\n",
       "      <td>0</td>\n",
       "      <td>2</td>\n",
       "      <td>1</td>\n",
       "    </tr>\n",
       "  </tbody>\n",
       "</table>\n",
       "</div>"
      ],
      "text/plain": [
       "   age  sex  cp  trtbps  chol  fbs  ...  exng  oldpeak  slp  caa  thall  output\n",
       "0   63    1   3     145   233    1  ...     0      2.3    0    0      1       1\n",
       "1   37    1   2     130   250    0  ...     0      3.5    0    0      2       1\n",
       "2   41    0   1     130   204    0  ...     0      1.4    2    0      2       1\n",
       "3   56    1   1     120   236    0  ...     0      0.8    2    0      2       1\n",
       "4   57    0   0     120   354    0  ...     1      0.6    2    0      2       1\n",
       "\n",
       "[5 rows x 14 columns]"
      ]
     },
     "execution_count": 4,
     "metadata": {
      "tags": []
     },
     "output_type": "execute_result"
    }
   ],
   "source": [
    "df.head()"
   ]
  },
  {
   "cell_type": "markdown",
   "metadata": {
    "id": "bRVTqIMJpV2Z"
   },
   "source": [
    "## 1.1 output 유무에 따른 양적변수 분포."
   ]
  },
  {
   "cell_type": "code",
   "execution_count": null,
   "metadata": {
    "colab": {
     "base_uri": "https://localhost:8080/",
     "height": 383
    },
    "executionInfo": {
     "elapsed": 1208,
     "status": "ok",
     "timestamp": 1626932348508,
     "user": {
      "displayName": "박건우",
      "photoUrl": "https://lh3.googleusercontent.com/a-/AOh14GgFlyE8ayXc62fZE_N3bCvAUBwBI5fuDaHYLi24=s64",
      "userId": "06958141074934964431"
     },
     "user_tz": -540
    },
    "id": "g886cJOm85vr",
    "outputId": "e11980e3-f0b9-45c3-8012-9d623a5d7afd"
   },
   "outputs": [
    {
     "data": {
      "image/png": "[encoded data removed]",
      "text/plain": [
       "<Figure size 762.375x360 with 2 Axes>"
      ]
     },
     "metadata": {
      "needs_background": "light",
      "tags": []
     },
     "output_type": "display_data"
    }
   ],
   "source": [
    "df_long = pd.melt(df, id_vars=['output'], value_vars=['cp','fbs', 'exng'])\n",
    "sns.catplot(x=\"variable\", hue=\"value\", col=\"output\",\n",
    "                data=df_long, kind=\"count\");"
   ]
  },
  {
   "cell_type": "markdown",
   "metadata": {
    "id": "kPmusyeGpb8Q"
   },
   "source": [
    "## 1.2 BMI 센서를 통해 가져온 콜레스테롤(mg/dl) -> outlier 판단"
   ]
  },
  {
   "cell_type": "code",
   "execution_count": null,
   "metadata": {
    "colab": {
     "base_uri": "https://localhost:8080/",
     "height": 297
    },
    "executionInfo": {
     "elapsed": 424,
     "status": "ok",
     "timestamp": 1626932350621,
     "user": {
      "displayName": "박건우",
      "photoUrl": "https://lh3.googleusercontent.com/a-/AOh14GgFlyE8ayXc62fZE_N3bCvAUBwBI5fuDaHYLi24=s64",
      "userId": "06958141074934964431"
     },
     "user_tz": -540
    },
    "id": "F_Mz7UgH9RSD",
    "outputId": "51c14a16-2034-4e78-cd7b-a7203fb7aed7"
   },
   "outputs": [
    {
     "data": {
      "text/plain": [
       "<matplotlib.axes._subplots.AxesSubplot at 0x7f7364601b50>"
      ]
     },
     "execution_count": 8,
     "metadata": {
      "tags": []
     },
     "output_type": "execute_result"
    },
    {
     "data": {
      "image/png": "[encoded data removed]",
      "text/plain": [
       "<Figure size 432x288 with 1 Axes>"
      ]
     },
     "metadata": {
      "needs_background": "light",
      "tags": []
     },
     "output_type": "display_data"
    }
   ],
   "source": [
    "chol = df.loc[:,['chol']]\n",
    "sns.boxplot(x = 'variable',y = 'value',data = chol.melt())"
   ]
  },
  {
   "cell_type": "markdown",
   "metadata": {
    "id": "IFUKlsj-9uG7"
   },
   "source": [
    "![image.png](data:image/png;base64,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)"
   ]
  },
  {
   "cell_type": "code",
   "execution_count": null,
   "metadata": {
    "colab": {
     "base_uri": "https://localhost:8080/"
    },
    "executionInfo": {
     "elapsed": 248,
     "status": "ok",
     "timestamp": 1626932352347,
     "user": {
      "displayName": "박건우",
      "photoUrl": "https://lh3.googleusercontent.com/a-/AOh14GgFlyE8ayXc62fZE_N3bCvAUBwBI5fuDaHYLi24=s64",
      "userId": "06958141074934964431"
     },
     "user_tz": -540
    },
    "id": "_W6ksTQ0ATNq",
    "outputId": "d606472d-e11b-4258-868c-7e7767cead69"
   },
   "outputs": [
    {
     "name": "stdout",
     "output_type": "stream",
     "text": [
      "Outlier 0 cases\n"
     ]
    }
   ],
   "source": [
    "df.drop(df[(df['chol'] > 500)].index,inplace=True)\n",
    "print(\"Outlier {0} cases\".format(df[df['chol']>500].shape[0]))\n",
    "#oulier drop"
   ]
  },
  {
   "cell_type": "markdown",
   "metadata": {
    "id": "JBB8tkBppjrg"
   },
   "source": [
    "## 1.3. 변수간 상관관계\n"
   ]
  },
  {
   "cell_type": "code",
   "execution_count": null,
   "metadata": {
    "colab": {
     "base_uri": "https://localhost:8080/",
     "height": 571
    },
    "executionInfo": {
     "elapsed": 1379,
     "status": "ok",
     "timestamp": 1626932354837,
     "user": {
      "displayName": "박건우",
      "photoUrl": "https://lh3.googleusercontent.com/a-/AOh14GgFlyE8ayXc62fZE_N3bCvAUBwBI5fuDaHYLi24=s64",
      "userId": "06958141074934964431"
     },
     "user_tz": -540
    },
    "id": "hYckGZaG90sF",
    "outputId": "8c43b9c2-6521-4eab-af75-abaaf8d6246c"
   },
   "outputs": [
    {
     "data": {
      "image/png": "[encoded data removed]",
      "text/plain": [
       "<Figure size 792x648 with 2 Axes>"
      ]
     },
     "metadata": {
      "needs_background": "light",
      "tags": []
     },
     "output_type": "display_data"
    }
   ],
   "source": [
    "corr = df.corr()\n",
    "cmap = sns.diverging_palette(220, 10, as_cmap=True)\n",
    "mask = np.zeros_like(corr, dtype=np.bool)\n",
    "mask[np.triu_indices_from(mask)] = True\n",
    "f, ax = plt.subplots(figsize=(11, 9))\n",
    "sns.heatmap(corr, mask=mask, cmap=cmap, vmax=.3, center=0,annot = True,\n",
    "            square=True, linewidths=.5, cbar_kws={\"shrink\": .5});\n",
    "#흉통을 유형별로 나타낸 feature가 output에 가장 많은 영향을 주는 걸로 판단."
   ]
  },
  {
   "cell_type": "markdown",
   "metadata": {
    "id": "4vQ3GcAtql_x"
   },
   "source": [
    "## 1.5 Data Preprocessing\n"
   ]
  },
  {
   "cell_type": "code",
   "execution_count": 5,
   "metadata": {
    "executionInfo": {
     "elapsed": 321,
     "status": "ok",
     "timestamp": 1626997498829,
     "user": {
      "displayName": "박건우",
      "photoUrl": "https://lh3.googleusercontent.com/a-/AOh14GgFlyE8ayXc62fZE_N3bCvAUBwBI5fuDaHYLi24=s64",
      "userId": "06958141074934964431"
     },
     "user_tz": -540
    },
    "id": "jpHXk5538QGB"
   },
   "outputs": [],
   "source": [
    "train_data, test_data, train_label, test_label = model_selection.train_test_split(heart_data, heart_target,\n",
    "                                                                                 test_size=0.3,\n",
    "                                                                                 random_state=40)"
   ]
  },
  {
   "cell_type": "code",
   "execution_count": 6,
   "metadata": {
    "executionInfo": {
     "elapsed": 4,
     "status": "ok",
     "timestamp": 1626997499208,
     "user": {
      "displayName": "박건우",
      "photoUrl": "https://lh3.googleusercontent.com/a-/AOh14GgFlyE8ayXc62fZE_N3bCvAUBwBI5fuDaHYLi24=s64",
      "userId": "06958141074934964431"
     },
     "user_tz": -540
    },
    "id": "kXXAZxxl8ETv"
   },
   "outputs": [],
   "source": [
    "enc = preprocessing.OneHotEncoder(categories='auto')\n",
    "\n",
    "train_label = enc.fit_transform(train_label).toarray()\n",
    "test_label = enc.fit_transform(test_label).toarray()\n",
    "\n",
    "sc = preprocessing.StandardScaler()\n",
    "\n",
    "train_data_scaled = sc.fit_transform(train_data)\n",
    "test_data_scaled = sc.transform(test_data)"
   ]
  },
  {
   "cell_type": "code",
   "execution_count": 7,
   "metadata": {
    "colab": {
     "base_uri": "https://localhost:8080/"
    },
    "executionInfo": {
     "elapsed": 3,
     "status": "ok",
     "timestamp": 1626997499208,
     "user": {
      "displayName": "박건우",
      "photoUrl": "https://lh3.googleusercontent.com/a-/AOh14GgFlyE8ayXc62fZE_N3bCvAUBwBI5fuDaHYLi24=s64",
      "userId": "06958141074934964431"
     },
     "user_tz": -540
    },
    "id": "i4rP3P0VxQRI",
    "outputId": "85ecb2fe-17bf-490f-91fa-4bd0af30536c"
   },
   "outputs": [
    {
     "name": "stdout",
     "output_type": "stream",
     "text": [
      "(212, 13)\n",
      "(91, 13)\n"
     ]
    }
   ],
   "source": [
    "print(train_data_scaled.shape)\n",
    "print(test_data_scaled.shape)\n"
   ]
  },
  {
   "cell_type": "code",
   "execution_count": 14,
   "metadata": {
    "executionInfo": {
     "elapsed": 255,
     "status": "ok",
     "timestamp": 1626998052006,
     "user": {
      "displayName": "박건우",
      "photoUrl": "https://lh3.googleusercontent.com/a-/AOh14GgFlyE8ayXc62fZE_N3bCvAUBwBI5fuDaHYLi24=s64",
      "userId": "06958141074934964431"
     },
     "user_tz": -540
    },
    "id": "iLGtO7zloxsU"
   },
   "outputs": [],
   "source": [
    "train_data_ML,test_data_ML = model_selection.train_test_split(df,test_size=0.3,random_state=40)"
   ]
  },
  {
   "cell_type": "markdown",
   "metadata": {
    "id": "59S_cVPsrJsL"
   },
   "source": [
    "## 1.6 Dicussions\n",
    "\n",
    "\n",
    "\n",
    "*   outlier로 판단되는 부분이 극히 적음.\n",
    "*   심장병과 직접적인 양의 상관관계를 보이는 feature가 단 3개\n",
    "*   결측값이 없어서 편함.\n",
    "*   데이터가 많이 부족함.\n",
    "*   OverSampling 진행여부 판단이 요구됨 (할지 안할지, 하면 얼마나 추가할지)\n",
    "\n",
    "\n",
    "\n"
   ]
  },
  {
   "cell_type": "markdown",
   "metadata": {
    "id": "HMKOtV7y8i7e"
   },
   "source": [
    "# 2. Traditional Machine Learining\n",
    "---\n"
   ]
  },
  {
   "cell_type": "markdown",
   "metadata": {
    "id": "OxrDkCSyp51C"
   },
   "source": [
    "##### scikit-learn/pycaret 버전호환 확인 필수(설치 시 SMOTE 실행 안됨)"
   ]
  },
  {
   "cell_type": "code",
   "execution_count": null,
   "metadata": {
    "id": "eeBMS9R4ukt-"
   },
   "outputs": [],
   "source": [
    "!pip install scikit-learn"
   ]
  },
  {
   "cell_type": "code",
   "execution_count": null,
   "metadata": {
    "id": "yjfgA-HpxkE7"
   },
   "outputs": [],
   "source": [
    "!pip install pycaret"
   ]
  },
  {
   "cell_type": "markdown",
   "metadata": {
    "id": "tvcCx3eetSH-"
   },
   "source": [
    "## 2.1 pycaret model setup"
   ]
  },
  {
   "cell_type": "code",
   "execution_count": 8,
   "metadata": {
    "colab": {
     "base_uri": "https://localhost:8080/"
    },
    "executionInfo": {
     "elapsed": 257,
     "status": "ok",
     "timestamp": 1626997507151,
     "user": {
      "displayName": "박건우",
      "photoUrl": "https://lh3.googleusercontent.com/a-/AOh14GgFlyE8ayXc62fZE_N3bCvAUBwBI5fuDaHYLi24=s64",
      "userId": "06958141074934964431"
     },
     "user_tz": -540
    },
    "id": "RkmmLfW6Cy-d",
    "outputId": "78ef20f4-ff11-4dc3-9d7a-18a5af5fcfe1"
   },
   "outputs": [
    {
     "name": "stdout",
     "output_type": "stream",
     "text": [
      "<class 'pandas.core.frame.DataFrame'>\n",
      "RangeIndex: 303 entries, 0 to 302\n",
      "Data columns (total 14 columns):\n",
      " #   Column    Non-Null Count  Dtype  \n",
      "---  ------    --------------  -----  \n",
      " 0   age       303 non-null    int64  \n",
      " 1   sex       303 non-null    int64  \n",
      " 2   cp        303 non-null    int64  \n",
      " 3   trtbps    303 non-null    int64  \n",
      " 4   chol      303 non-null    int64  \n",
      " 5   fbs       303 non-null    int64  \n",
      " 6   restecg   303 non-null    int64  \n",
      " 7   thalachh  303 non-null    int64  \n",
      " 8   exng      303 non-null    int64  \n",
      " 9   oldpeak   303 non-null    float64\n",
      " 10  slp       303 non-null    int64  \n",
      " 11  caa       303 non-null    int64  \n",
      " 12  thall     303 non-null    int64  \n",
      " 13  output    303 non-null    int64  \n",
      "dtypes: float64(1), int64(13)\n",
      "memory usage: 33.3 KB\n"
     ]
    }
   ],
   "source": [
    "df.info()"
   ]
  },
  {
   "cell_type": "code",
   "execution_count": null,
   "metadata": {
    "id": "ui1Mf9CSuyjX"
   },
   "outputs": [],
   "source": [
    "from pycaret.classification import *\n",
    "model = setup(data=train_data_ML, \n",
    "              target='output', \n",
    "              train_size=0.7,\n",
    "              session_id=123,\n",
    "              )"
   ]
  },
  {
   "cell_type": "markdown",
   "metadata": {
    "id": "GfNC1RGxtVKl"
   },
   "source": [
    "## 2.2 top3 model 저장\n"
   ]
  },
  {
   "cell_type": "code",
   "execution_count": 16,
   "metadata": {
    "colab": {
     "base_uri": "https://localhost:8080/",
     "height": 452,
     "referenced_widgets": [
      "ecb9357322c94b4c81d6072a36bcf95c",
      "ad0e69578bb741e8ab5815c6d83dfdbf",
      "2085a6d3d18746ba98b37ed1bcb756fb"
     ]
    },
    "executionInfo": {
     "elapsed": 23976,
     "status": "ok",
     "timestamp": 1626998093723,
     "user": {
      "displayName": "박건우",
      "photoUrl": "https://lh3.googleusercontent.com/a-/AOh14GgFlyE8ayXc62fZE_N3bCvAUBwBI5fuDaHYLi24=s64",
      "userId": "06958141074934964431"
     },
     "user_tz": -540
    },
    "id": "yKqaM1Ieu1CQ",
    "outputId": "411f5b24-8cda-4720-9719-acc2eae05eeb"
   },
   "outputs": [
    {
     "data": {
      "text/html": [
       "<div>\n",
       "<style scoped>\n",
       "    .dataframe tbody tr th:only-of-type {\n",
       "        vertical-align: middle;\n",
       "    }\n",
       "\n",
       "    .dataframe tbody tr th {\n",
       "        vertical-align: top;\n",
       "    }\n",
       "\n",
       "    .dataframe thead th {\n",
       "        text-align: right;\n",
       "    }\n",
       "</style>\n",
       "<table border=\"1\" class=\"dataframe\">\n",
       "  <thead>\n",
       "    <tr style=\"text-align: right;\">\n",
       "      <th></th>\n",
       "      <th>Model</th>\n",
       "      <th>Accuracy</th>\n",
       "      <th>AUC</th>\n",
       "      <th>Recall</th>\n",
       "      <th>Prec.</th>\n",
       "      <th>F1</th>\n",
       "      <th>Kappa</th>\n",
       "      <th>MCC</th>\n",
       "      <th>TT (Sec)</th>\n",
       "    </tr>\n",
       "  </thead>\n",
       "  <tbody>\n",
       "    <tr>\n",
       "      <th>rf</th>\n",
       "      <td>Random Forest Classifier</td>\n",
       "      <td>0.8514</td>\n",
       "      <td>0.9315</td>\n",
       "      <td>0.8589</td>\n",
       "      <td>0.8578</td>\n",
       "      <td>0.8519</td>\n",
       "      <td>0.7032</td>\n",
       "      <td>0.7139</td>\n",
       "      <td>0.454</td>\n",
       "    </tr>\n",
       "    <tr>\n",
       "      <th>et</th>\n",
       "      <td>Extra Trees Classifier</td>\n",
       "      <td>0.8443</td>\n",
       "      <td>0.9106</td>\n",
       "      <td>0.8696</td>\n",
       "      <td>0.8392</td>\n",
       "      <td>0.8444</td>\n",
       "      <td>0.6896</td>\n",
       "      <td>0.7064</td>\n",
       "      <td>0.412</td>\n",
       "    </tr>\n",
       "    <tr>\n",
       "      <th>lr</th>\n",
       "      <td>Logistic Regression</td>\n",
       "      <td>0.8376</td>\n",
       "      <td>0.9008</td>\n",
       "      <td>0.8714</td>\n",
       "      <td>0.8284</td>\n",
       "      <td>0.8442</td>\n",
       "      <td>0.6749</td>\n",
       "      <td>0.6857</td>\n",
       "      <td>0.398</td>\n",
       "    </tr>\n",
       "    <tr>\n",
       "      <th>lightgbm</th>\n",
       "      <td>Light Gradient Boosting Machine</td>\n",
       "      <td>0.8305</td>\n",
       "      <td>0.9064</td>\n",
       "      <td>0.8589</td>\n",
       "      <td>0.8303</td>\n",
       "      <td>0.8380</td>\n",
       "      <td>0.6604</td>\n",
       "      <td>0.6727</td>\n",
       "      <td>0.061</td>\n",
       "    </tr>\n",
       "    <tr>\n",
       "      <th>ridge</th>\n",
       "      <td>Ridge Classifier</td>\n",
       "      <td>0.8238</td>\n",
       "      <td>0.0000</td>\n",
       "      <td>0.8714</td>\n",
       "      <td>0.8109</td>\n",
       "      <td>0.8338</td>\n",
       "      <td>0.6466</td>\n",
       "      <td>0.6608</td>\n",
       "      <td>0.013</td>\n",
       "    </tr>\n",
       "    <tr>\n",
       "      <th>lda</th>\n",
       "      <td>Linear Discriminant Analysis</td>\n",
       "      <td>0.8100</td>\n",
       "      <td>0.8801</td>\n",
       "      <td>0.8589</td>\n",
       "      <td>0.8031</td>\n",
       "      <td>0.8199</td>\n",
       "      <td>0.6195</td>\n",
       "      <td>0.6393</td>\n",
       "      <td>0.014</td>\n",
       "    </tr>\n",
       "    <tr>\n",
       "      <th>gbc</th>\n",
       "      <td>Gradient Boosting Classifier</td>\n",
       "      <td>0.7633</td>\n",
       "      <td>0.8671</td>\n",
       "      <td>0.7643</td>\n",
       "      <td>0.7739</td>\n",
       "      <td>0.7576</td>\n",
       "      <td>0.5290</td>\n",
       "      <td>0.5447</td>\n",
       "      <td>0.069</td>\n",
       "    </tr>\n",
       "    <tr>\n",
       "      <th>dt</th>\n",
       "      <td>Decision Tree Classifier</td>\n",
       "      <td>0.7629</td>\n",
       "      <td>0.7625</td>\n",
       "      <td>0.8286</td>\n",
       "      <td>0.7451</td>\n",
       "      <td>0.7763</td>\n",
       "      <td>0.5258</td>\n",
       "      <td>0.5463</td>\n",
       "      <td>0.013</td>\n",
       "    </tr>\n",
       "    <tr>\n",
       "      <th>nb</th>\n",
       "      <td>Naive Bayes</td>\n",
       "      <td>0.7614</td>\n",
       "      <td>0.8034</td>\n",
       "      <td>0.7732</td>\n",
       "      <td>0.7658</td>\n",
       "      <td>0.7619</td>\n",
       "      <td>0.5228</td>\n",
       "      <td>0.5340</td>\n",
       "      <td>0.014</td>\n",
       "    </tr>\n",
       "    <tr>\n",
       "      <th>ada</th>\n",
       "      <td>Ada Boost Classifier</td>\n",
       "      <td>0.7414</td>\n",
       "      <td>0.7783</td>\n",
       "      <td>0.7607</td>\n",
       "      <td>0.7498</td>\n",
       "      <td>0.7474</td>\n",
       "      <td>0.4830</td>\n",
       "      <td>0.4939</td>\n",
       "      <td>0.086</td>\n",
       "    </tr>\n",
       "    <tr>\n",
       "      <th>qda</th>\n",
       "      <td>Quadratic Discriminant Analysis</td>\n",
       "      <td>0.6348</td>\n",
       "      <td>0.6321</td>\n",
       "      <td>0.5607</td>\n",
       "      <td>0.6322</td>\n",
       "      <td>0.5666</td>\n",
       "      <td>0.2635</td>\n",
       "      <td>0.2617</td>\n",
       "      <td>0.015</td>\n",
       "    </tr>\n",
       "    <tr>\n",
       "      <th>svm</th>\n",
       "      <td>SVM - Linear Kernel</td>\n",
       "      <td>0.6219</td>\n",
       "      <td>0.0000</td>\n",
       "      <td>0.7554</td>\n",
       "      <td>0.5664</td>\n",
       "      <td>0.6377</td>\n",
       "      <td>0.2357</td>\n",
       "      <td>0.2546</td>\n",
       "      <td>0.014</td>\n",
       "    </tr>\n",
       "    <tr>\n",
       "      <th>knn</th>\n",
       "      <td>K Neighbors Classifier</td>\n",
       "      <td>0.5871</td>\n",
       "      <td>0.6194</td>\n",
       "      <td>0.6482</td>\n",
       "      <td>0.5918</td>\n",
       "      <td>0.6114</td>\n",
       "      <td>0.1761</td>\n",
       "      <td>0.1834</td>\n",
       "      <td>0.114</td>\n",
       "    </tr>\n",
       "  </tbody>\n",
       "</table>\n",
       "</div>"
      ],
      "text/plain": [
       "                                    Model  Accuracy     AUC  Recall   Prec.  \\\n",
       "rf               Random Forest Classifier    0.8514  0.9315  0.8589  0.8578   \n",
       "et                 Extra Trees Classifier    0.8443  0.9106  0.8696  0.8392   \n",
       "lr                    Logistic Regression    0.8376  0.9008  0.8714  0.8284   \n",
       "lightgbm  Light Gradient Boosting Machine    0.8305  0.9064  0.8589  0.8303   \n",
       "ridge                    Ridge Classifier    0.8238  0.0000  0.8714  0.8109   \n",
       "lda          Linear Discriminant Analysis    0.8100  0.8801  0.8589  0.8031   \n",
       "gbc          Gradient Boosting Classifier    0.7633  0.8671  0.7643  0.7739   \n",
       "dt               Decision Tree Classifier    0.7629  0.7625  0.8286  0.7451   \n",
       "nb                            Naive Bayes    0.7614  0.8034  0.7732  0.7658   \n",
       "ada                  Ada Boost Classifier    0.7414  0.7783  0.7607  0.7498   \n",
       "qda       Quadratic Discriminant Analysis    0.6348  0.6321  0.5607  0.6322   \n",
       "svm                   SVM - Linear Kernel    0.6219  0.0000  0.7554  0.5664   \n",
       "knn                K Neighbors Classifier    0.5871  0.6194  0.6482  0.5918   \n",
       "\n",
       "              F1   Kappa     MCC  TT (Sec)  \n",
       "rf        0.8519  0.7032  0.7139     0.454  \n",
       "et        0.8444  0.6896  0.7064     0.412  \n",
       "lr        0.8442  0.6749  0.6857     0.398  \n",
       "lightgbm  0.8380  0.6604  0.6727     0.061  \n",
       "ridge     0.8338  0.6466  0.6608     0.013  \n",
       "lda       0.8199  0.6195  0.6393     0.014  \n",
       "gbc       0.7576  0.5290  0.5447     0.069  \n",
       "dt        0.7763  0.5258  0.5463     0.013  \n",
       "nb        0.7619  0.5228  0.5340     0.014  \n",
       "ada       0.7474  0.4830  0.4939     0.086  \n",
       "qda       0.5666  0.2635  0.2617     0.015  \n",
       "svm       0.6377  0.2357  0.2546     0.014  \n",
       "knn       0.6114  0.1761  0.1834     0.114  "
      ]
     },
     "metadata": {
      "tags": []
     },
     "output_type": "display_data"
    }
   ],
   "source": [
    "top = compare_models(n_select = 15)"
   ]
  },
  {
   "cell_type": "markdown",
   "metadata": {
    "id": "scYioMSmXq2U"
   },
   "source": [
    "## 2.3 Test Data 불러와서 ACC 확인\n"
   ]
  },
  {
   "cell_type": "code",
   "execution_count": 35,
   "metadata": {
    "executionInfo": {
     "elapsed": 255,
     "status": "ok",
     "timestamp": 1626998781182,
     "user": {
      "displayName": "박건우",
      "photoUrl": "https://lh3.googleusercontent.com/a-/AOh14GgFlyE8ayXc62fZE_N3bCvAUBwBI5fuDaHYLi24=s64",
      "userId": "06958141074934964431"
     },
     "user_tz": -540
    },
    "id": "MYPPhtTQUxBg"
   },
   "outputs": [],
   "source": [
    "def Accuracy_check(model_number):\n",
    "  count = 0\n",
    "  predictions = predict_model(top[model_number], data = test_data_ML)\n",
    "  predictions=predictions.reset_index(drop=True)\n",
    "  for i in range(91):\n",
    "    if predictions['output'][i] == predictions['Label'][i]:\n",
    "      count = count + 1\n",
    "  Acc = round(int(count)/90*100,1)\n",
    "  return Acc"
   ]
  },
  {
   "cell_type": "code",
   "execution_count": 36,
   "metadata": {
    "colab": {
     "base_uri": "https://localhost:8080/"
    },
    "executionInfo": {
     "elapsed": 1714,
     "status": "ok",
     "timestamp": 1626998783720,
     "user": {
      "displayName": "박건우",
      "photoUrl": "https://lh3.googleusercontent.com/a-/AOh14GgFlyE8ayXc62fZE_N3bCvAUBwBI5fuDaHYLi24=s64",
      "userId": "06958141074934964431"
     },
     "user_tz": -540
    },
    "id": "d5yAesDlXQiW",
    "outputId": "4c52a51a-b1c1-4321-8a61-702a8aad2d4e"
   },
   "outputs": [
    {
     "name": "stdout",
     "output_type": "stream",
     "text": [
      "Random Forest Classifier Accuracy : 85.6\n",
      "Extra Trees Classifier Accuracy : 88.9\n",
      "Logistic Regression Accuracy : 88.9\n",
      "Light Gradient Boosting Machine Accuracy: 84.4\n",
      "Ridge Classifier Accuracy : 87.8\n"
     ]
    }
   ],
   "source": [
    "print(\"Random Forest Classifier Accuracy :\",Accuracy_check(0))\n",
    "print(\"Extra Trees Classifier Accuracy :\",Accuracy_check(1))\n",
    "print(\"Logistic Regression Accuracy :\",Accuracy_check(2))\n",
    "print(\"Light Gradient Boosting Machine Accuracy:\",Accuracy_check(3))\n",
    "print(\"Ridge Classifier Accuracy :\",Accuracy_check(4))"
   ]
  },
  {
   "cell_type": "markdown",
   "metadata": {
    "id": "ubX2NX9GtbTO"
   },
   "source": [
    "## 2.3 Model Ensemble::스태킹"
   ]
  },
  {
   "cell_type": "markdown",
   "metadata": {
    "id": "qG1pB2VFa3EH"
   },
   "source": [
    "### 2.3.1 model setup"
   ]
  },
  {
   "cell_type": "code",
   "execution_count": null,
   "metadata": {
    "id": "E4H_tRDZu1xt"
   },
   "outputs": [],
   "source": [
    "stack_model = setup(data = train_data_ML, target = 'output')"
   ]
  },
  {
   "cell_type": "code",
   "execution_count": 39,
   "metadata": {
    "colab": {
     "base_uri": "https://localhost:8080/",
     "height": 421,
     "referenced_widgets": [
      "c59d33d12ef14a70b8bf5199207ef997",
      "2b4ca611b1f94d6d843edc81363e964e",
      "901e35064e864a378caea92b022118b6"
     ]
    },
    "executionInfo": {
     "elapsed": 37528,
     "status": "ok",
     "timestamp": 1626998902977,
     "user": {
      "displayName": "박건우",
      "photoUrl": "https://lh3.googleusercontent.com/a-/AOh14GgFlyE8ayXc62fZE_N3bCvAUBwBI5fuDaHYLi24=s64",
      "userId": "06958141074934964431"
     },
     "user_tz": -540
    },
    "id": "cT1X_zwlu2q0",
    "outputId": "578af4b4-d7a0-45f1-a938-f19fedf4ff16"
   },
   "outputs": [
    {
     "data": {
      "text/html": [
       "<div>\n",
       "<style scoped>\n",
       "    .dataframe tbody tr th:only-of-type {\n",
       "        vertical-align: middle;\n",
       "    }\n",
       "\n",
       "    .dataframe tbody tr th {\n",
       "        vertical-align: top;\n",
       "    }\n",
       "\n",
       "    .dataframe thead th {\n",
       "        text-align: right;\n",
       "    }\n",
       "</style>\n",
       "<table border=\"1\" class=\"dataframe\">\n",
       "  <thead>\n",
       "    <tr style=\"text-align: right;\">\n",
       "      <th></th>\n",
       "      <th>Accuracy</th>\n",
       "      <th>AUC</th>\n",
       "      <th>Recall</th>\n",
       "      <th>Prec.</th>\n",
       "      <th>F1</th>\n",
       "      <th>Kappa</th>\n",
       "      <th>MCC</th>\n",
       "    </tr>\n",
       "  </thead>\n",
       "  <tbody>\n",
       "    <tr>\n",
       "      <th>0</th>\n",
       "      <td>0.6667</td>\n",
       "      <td>0.8214</td>\n",
       "      <td>0.6250</td>\n",
       "      <td>0.7143</td>\n",
       "      <td>0.6667</td>\n",
       "      <td>0.3363</td>\n",
       "      <td>0.3393</td>\n",
       "    </tr>\n",
       "    <tr>\n",
       "      <th>1</th>\n",
       "      <td>1.0000</td>\n",
       "      <td>1.0000</td>\n",
       "      <td>1.0000</td>\n",
       "      <td>1.0000</td>\n",
       "      <td>1.0000</td>\n",
       "      <td>1.0000</td>\n",
       "      <td>1.0000</td>\n",
       "    </tr>\n",
       "    <tr>\n",
       "      <th>2</th>\n",
       "      <td>0.8000</td>\n",
       "      <td>0.9018</td>\n",
       "      <td>0.8750</td>\n",
       "      <td>0.7778</td>\n",
       "      <td>0.8235</td>\n",
       "      <td>0.5946</td>\n",
       "      <td>0.6001</td>\n",
       "    </tr>\n",
       "    <tr>\n",
       "      <th>3</th>\n",
       "      <td>0.8000</td>\n",
       "      <td>0.9643</td>\n",
       "      <td>0.7500</td>\n",
       "      <td>0.8571</td>\n",
       "      <td>0.8000</td>\n",
       "      <td>0.6018</td>\n",
       "      <td>0.6071</td>\n",
       "    </tr>\n",
       "    <tr>\n",
       "      <th>4</th>\n",
       "      <td>0.7333</td>\n",
       "      <td>0.7143</td>\n",
       "      <td>0.7500</td>\n",
       "      <td>0.7500</td>\n",
       "      <td>0.7500</td>\n",
       "      <td>0.4643</td>\n",
       "      <td>0.4643</td>\n",
       "    </tr>\n",
       "    <tr>\n",
       "      <th>5</th>\n",
       "      <td>0.6667</td>\n",
       "      <td>0.7857</td>\n",
       "      <td>0.8571</td>\n",
       "      <td>0.6000</td>\n",
       "      <td>0.7059</td>\n",
       "      <td>0.3478</td>\n",
       "      <td>0.3780</td>\n",
       "    </tr>\n",
       "    <tr>\n",
       "      <th>6</th>\n",
       "      <td>1.0000</td>\n",
       "      <td>1.0000</td>\n",
       "      <td>1.0000</td>\n",
       "      <td>1.0000</td>\n",
       "      <td>1.0000</td>\n",
       "      <td>1.0000</td>\n",
       "      <td>1.0000</td>\n",
       "    </tr>\n",
       "    <tr>\n",
       "      <th>7</th>\n",
       "      <td>0.8667</td>\n",
       "      <td>0.8839</td>\n",
       "      <td>0.8571</td>\n",
       "      <td>0.8571</td>\n",
       "      <td>0.8571</td>\n",
       "      <td>0.7321</td>\n",
       "      <td>0.7321</td>\n",
       "    </tr>\n",
       "    <tr>\n",
       "      <th>8</th>\n",
       "      <td>0.7857</td>\n",
       "      <td>0.8163</td>\n",
       "      <td>0.5714</td>\n",
       "      <td>1.0000</td>\n",
       "      <td>0.7273</td>\n",
       "      <td>0.5714</td>\n",
       "      <td>0.6325</td>\n",
       "    </tr>\n",
       "    <tr>\n",
       "      <th>9</th>\n",
       "      <td>0.7857</td>\n",
       "      <td>0.8980</td>\n",
       "      <td>0.8571</td>\n",
       "      <td>0.7500</td>\n",
       "      <td>0.8000</td>\n",
       "      <td>0.5714</td>\n",
       "      <td>0.5774</td>\n",
       "    </tr>\n",
       "    <tr>\n",
       "      <th>Mean</th>\n",
       "      <td>0.8105</td>\n",
       "      <td>0.8786</td>\n",
       "      <td>0.8143</td>\n",
       "      <td>0.8306</td>\n",
       "      <td>0.8130</td>\n",
       "      <td>0.6220</td>\n",
       "      <td>0.6331</td>\n",
       "    </tr>\n",
       "    <tr>\n",
       "      <th>SD</th>\n",
       "      <td>0.1112</td>\n",
       "      <td>0.0897</td>\n",
       "      <td>0.1346</td>\n",
       "      <td>0.1304</td>\n",
       "      <td>0.1080</td>\n",
       "      <td>0.2204</td>\n",
       "      <td>0.2154</td>\n",
       "    </tr>\n",
       "  </tbody>\n",
       "</table>\n",
       "</div>"
      ],
      "text/plain": [
       "      Accuracy     AUC  Recall   Prec.      F1   Kappa     MCC\n",
       "0       0.6667  0.8214  0.6250  0.7143  0.6667  0.3363  0.3393\n",
       "1       1.0000  1.0000  1.0000  1.0000  1.0000  1.0000  1.0000\n",
       "2       0.8000  0.9018  0.8750  0.7778  0.8235  0.5946  0.6001\n",
       "3       0.8000  0.9643  0.7500  0.8571  0.8000  0.6018  0.6071\n",
       "4       0.7333  0.7143  0.7500  0.7500  0.7500  0.4643  0.4643\n",
       "5       0.6667  0.7857  0.8571  0.6000  0.7059  0.3478  0.3780\n",
       "6       1.0000  1.0000  1.0000  1.0000  1.0000  1.0000  1.0000\n",
       "7       0.8667  0.8839  0.8571  0.8571  0.8571  0.7321  0.7321\n",
       "8       0.7857  0.8163  0.5714  1.0000  0.7273  0.5714  0.6325\n",
       "9       0.7857  0.8980  0.8571  0.7500  0.8000  0.5714  0.5774\n",
       "Mean    0.8105  0.8786  0.8143  0.8306  0.8130  0.6220  0.6331\n",
       "SD      0.1112  0.0897  0.1346  0.1304  0.1080  0.2204  0.2154"
      ]
     },
     "metadata": {
      "tags": []
     },
     "output_type": "display_data"
    }
   ],
   "source": [
    "stacker = stack_models(estimator_list = top[1:3], meta_model = top[0])\n",
    "# 이전에 저장한 상위 3개의 모델을 기준 stack model\n",
    "# 자동교차검증(개꿀) -> default fold 갯수 10개"
   ]
  },
  {
   "cell_type": "markdown",
   "metadata": {
    "id": "YakQ9-Wgtjpv"
   },
   "source": [
    "## 2.4 성능 지표 확인::"
   ]
  },
  {
   "cell_type": "code",
   "execution_count": null,
   "metadata": {
    "id": "i-BHzICY9wya"
   },
   "outputs": [],
   "source": [
    "evaluate_model(top[0]) # 설정된 Hyper-params의 값, AUC/Confusion matrix 등 성능 지표, Feature importance 등을 바로 확인할 수 있음"
   ]
  },
  {
   "cell_type": "code",
   "execution_count": 44,
   "metadata": {
    "colab": {
     "base_uri": "https://localhost:8080/",
     "height": 376,
     "referenced_widgets": [
      "bc222172540d4be1b8603c1cdcb76f03",
      "a9598603b5ae433ebdd97fbf04875b6f",
      "8ff407bb17b942b2901602dcdf71ae9c"
     ]
    },
    "executionInfo": {
     "elapsed": 1347,
     "status": "ok",
     "timestamp": 1626998962089,
     "user": {
      "displayName": "박건우",
      "photoUrl": "https://lh3.googleusercontent.com/a-/AOh14GgFlyE8ayXc62fZE_N3bCvAUBwBI5fuDaHYLi24=s64",
      "userId": "06958141074934964431"
     },
     "user_tz": -540
    },
    "id": "yTnr4KZ-9Piw",
    "outputId": "ed0c20ed-28ca-4f6a-fbb5-dac7c78c3ced"
   },
   "outputs": [
    {
     "data": {
      "image/png": "[encoded data removed]",
      "text/plain": [
       "<Figure size 576x396 with 1 Axes>"
      ]
     },
     "metadata": {
      "tags": []
     },
     "output_type": "display_data"
    }
   ],
   "source": [
    "model_ROC = top[0]\n",
    "plot_model(Logistic, plot = 'auc')\n",
    "# plot_model(Logistic, plot='feature')\n",
    "# plot_model(xgb, plot = 'confusion_matrix')"
   ]
  },
  {
   "cell_type": "markdown",
   "metadata": {
    "id": "vCn9n7sKfeZQ"
   },
   "source": [
    "# 3. Deep Learning\n",
    "---\n"
   ]
  },
  {
   "cell_type": "code",
   "execution_count": 45,
   "metadata": {
    "colab": {
     "base_uri": "https://localhost:8080/"
    },
    "executionInfo": {
     "elapsed": 3975,
     "status": "ok",
     "timestamp": 1626999161662,
     "user": {
      "displayName": "박건우",
      "photoUrl": "https://lh3.googleusercontent.com/a-/AOh14GgFlyE8ayXc62fZE_N3bCvAUBwBI5fuDaHYLi24=s64",
      "userId": "06958141074934964431"
     },
     "user_tz": -540
    },
    "id": "NeZt7051y5xu",
    "outputId": "669dfb39-36fe-4ec8-c139-7c5a743f3bf7"
   },
   "outputs": [
    {
     "name": "stdout",
     "output_type": "stream",
     "text": [
      "\u001b[?25l\r",
      "\u001b[K     |███▍                            | 10 kB 35.9 MB/s eta 0:00:01\r",
      "\u001b[K     |██████▉                         | 20 kB 28.3 MB/s eta 0:00:01\r",
      "\u001b[K     |██████████▏                     | 30 kB 18.2 MB/s eta 0:00:01\r",
      "\u001b[K     |█████████████▋                  | 40 kB 15.2 MB/s eta 0:00:01\r",
      "\u001b[K     |█████████████████               | 51 kB 8.7 MB/s eta 0:00:01\r",
      "\u001b[K     |████████████████████▍           | 61 kB 8.6 MB/s eta 0:00:01\r",
      "\u001b[K     |███████████████████████▊        | 71 kB 8.8 MB/s eta 0:00:01\r",
      "\u001b[K     |███████████████████████████▏    | 81 kB 9.7 MB/s eta 0:00:01\r",
      "\u001b[K     |██████████████████████████████▋ | 92 kB 10.0 MB/s eta 0:00:01\r",
      "\u001b[K     |████████████████████████████████| 96 kB 4.1 MB/s \n",
      "\u001b[?25h  Building wheel for kt-legacy (setup.py) ... \u001b[?25l\u001b[?25hdone\n"
     ]
    }
   ],
   "source": [
    "!pip install -q -U keras-tuner"
   ]
  },
  {
   "cell_type": "code",
   "execution_count": 46,
   "metadata": {
    "executionInfo": {
     "elapsed": 5,
     "status": "ok",
     "timestamp": 1626999161663,
     "user": {
      "displayName": "박건우",
      "photoUrl": "https://lh3.googleusercontent.com/a-/AOh14GgFlyE8ayXc62fZE_N3bCvAUBwBI5fuDaHYLi24=s64",
      "userId": "06958141074934964431"
     },
     "user_tz": -540
    },
    "id": "-SQ0PEopy9N0"
   },
   "outputs": [],
   "source": [
    "import kerastuner as kt"
   ]
  },
  {
   "cell_type": "markdown",
   "metadata": {
    "id": "Jc2nMTlrjAUW"
   },
   "source": [
    "## 3.1 Keras Tuner\n"
   ]
  },
  {
   "cell_type": "markdown",
   "metadata": {
    "id": "S8gb4LBxuO8R"
   },
   "source": [
    "### 3.1.1 build_hyper_model"
   ]
  },
  {
   "cell_type": "code",
   "execution_count": 47,
   "metadata": {
    "executionInfo": {
     "elapsed": 251,
     "status": "ok",
     "timestamp": 1626999174904,
     "user": {
      "displayName": "박건우",
      "photoUrl": "https://lh3.googleusercontent.com/a-/AOh14GgFlyE8ayXc62fZE_N3bCvAUBwBI5fuDaHYLi24=s64",
      "userId": "06958141074934964431"
     },
     "user_tz": -540
    },
    "id": "b2M1Op-Hb7uI"
   },
   "outputs": [],
   "source": [
    "def build_hyper_model(hp):\n",
    "    \n",
    "    model = keras.Sequential()\n",
    "    model.add(layers.Dense(input_dim=13, units=16, activation='relu', kernel_initializer=initializers.he_normal(), kernel_regularizer=regularizers.l2(0.001))) \n",
    "    \n",
    "    # hidden layer 조정 (1~3 중 최적값 선택)\n",
    "    for i in range(hp.Int('num_layers', min_value=1, max_value=3)): \n",
    "        \n",
    "        # perceptrons 수 조정 (32~512 사이에서 최적값 선택)\n",
    "        hp_units = hp.Int('units_' + str(i), min_value=8, max_value=256, step=32)\n",
    "        hp_activations = hp.Choice('activation_' + str(i), values=['relu', 'elu'])\n",
    "        \n",
    "        model.add(layers.Dense(units=hp_units, activation=hp_activations, \n",
    "                               kernel_initializer=initializers.he_normal()))\n",
    "\n",
    "    model.add(layers.Dense(2, activation='softmax'))\n",
    "    \n",
    "    # optimizer의 학습률 조정(0.01, 0.001 또는 0.0001에서 최적 값 선택)\n",
    "    hp_learning_rate = hp.Choice('learning_rate', values = [1e-2, 1e-3, 1e-4]) \n",
    "    \n",
    "    model.compile(optimizer = keras.optimizers.Adam(learning_rate = hp_learning_rate),\n",
    "                loss = keras.losses.CategoricalCrossentropy(),\n",
    "                metrics = ['accuracy']) # tf.keras.metrics.CategoricalAccuracy()\n",
    "    \n",
    "    return model"
   ]
  },
  {
   "cell_type": "markdown",
   "metadata": {
    "id": "b_qso__buWmf"
   },
   "source": [
    "### 3.1.2 튜너선택 -> BayesianOptimization"
   ]
  },
  {
   "cell_type": "code",
   "execution_count": 48,
   "metadata": {
    "colab": {
     "base_uri": "https://localhost:8080/"
    },
    "executionInfo": {
     "elapsed": 6305,
     "status": "ok",
     "timestamp": 1626999188439,
     "user": {
      "displayName": "박건우",
      "photoUrl": "https://lh3.googleusercontent.com/a-/AOh14GgFlyE8ayXc62fZE_N3bCvAUBwBI5fuDaHYLi24=s64",
      "userId": "06958141074934964431"
     },
     "user_tz": -540
    },
    "id": "Sa3OXBWtc3Wf",
    "outputId": "9aa6b299-3e6d-4d95-8536-4d32896dfabb"
   },
   "outputs": [
    {
     "name": "stdout",
     "output_type": "stream",
     "text": [
      "Search space summary\n",
      "Default search space size: 4\n",
      "num_layers (Int)\n",
      "{'default': None, 'conditions': [], 'min_value': 1, 'max_value': 3, 'step': 1, 'sampling': None}\n",
      "units_0 (Int)\n",
      "{'default': None, 'conditions': [], 'min_value': 8, 'max_value': 256, 'step': 32, 'sampling': None}\n",
      "activation_0 (Choice)\n",
      "{'default': 'relu', 'conditions': [], 'values': ['relu', 'elu'], 'ordered': False}\n",
      "learning_rate (Choice)\n",
      "{'default': 0.01, 'conditions': [], 'values': [0.01, 0.001, 0.0001], 'ordered': True}\n"
     ]
    }
   ],
   "source": [
    "tuner = kt.BayesianOptimization(build_hyper_model,\n",
    "                                objective = 'val_accuracy', # Hyper-params tuning을 위한 목적함수 설정 (metric to minimize or maximize)\n",
    "                                max_trials = 10, # 서로 다른 Hyper-params 조합으로 시도할 총 Trial 횟수 설정\n",
    "                                directory = 'test_prac_dir', # Path to the working directory\n",
    "                                project_name = 'heart_hyper_1') # Name to use as directory name for files saved by this Tuner\n",
    "##==================================================================================\n",
    "# from kerastuner.tuners import RandomSearch\n",
    "# tuner = RandomSearch(\n",
    "#     build_model, # HyperModel\n",
    "#     objective='val_accuracy', #  최적화할 하이퍼모델\n",
    "#     max_trials=10,\n",
    "#     executions_per_trial=3, # 각 모델별 학습 회수\n",
    "#     directory='/content/sample_data', # 사용된 parameter 저장할 폴더\n",
    "#     project_name='RandomSearch_tune_res') # 사용된 parameter 저장할 폴더\n",
    "\n",
    "# #==================================================================================\n",
    "# from kerastuner.tuners import Hyperband\n",
    "# tuner = kt.Hyperband(\n",
    "#         build_model, # HyperModel\n",
    "#         objective ='val_accuracy', #  최적화할 하이퍼모델\n",
    "#         max_epochs =20, # 각 모델별 학습 회수\n",
    "#         factor = 3,    # 한 번에 훈련할 모델 수 결정 변수\n",
    "#         directory ='/content/sample_data', # 사용된 parameter 저장할 폴더\n",
    "#         project_name ='Hyperband_tune_res') # 사용된 parameter 저장할 폴더\n",
    "\n",
    "tuner.search_space_summary()"
   ]
  },
  {
   "cell_type": "markdown",
   "metadata": {
    "id": "QNwll6uFnZyF"
   },
   "source": [
    "<h4> 교육자료 (Appendix) 6. Keras-tuner Bayesian-HPO on MNIST (Colab-only) 참조</h4>\n",
    "<h4><a>https://www.tensorflow.org/tutorials/keras/keras_tuner?hl=ko</a> 참조.</h4>\n",
    "<h4>BayesianOptimization, RandomSearch, Hyperband 세 가지 튜너 선택 가능</h4>\n",
    "\n"
   ]
  },
  {
   "cell_type": "markdown",
   "metadata": {
    "id": "5WvMUnC9uoj4"
   },
   "source": [
    "### 3.1.3 Search"
   ]
  },
  {
   "cell_type": "code",
   "execution_count": 49,
   "metadata": {
    "colab": {
     "base_uri": "https://localhost:8080/"
    },
    "executionInfo": {
     "elapsed": 57411,
     "status": "ok",
     "timestamp": 1626999252404,
     "user": {
      "displayName": "박건우",
      "photoUrl": "https://lh3.googleusercontent.com/a-/AOh14GgFlyE8ayXc62fZE_N3bCvAUBwBI5fuDaHYLi24=s64",
      "userId": "06958141074934964431"
     },
     "user_tz": -540
    },
    "id": "woRJd7mIdSSV",
    "outputId": "12906d4b-688f-4c38-b903-6597c7b08b4a"
   },
   "outputs": [
    {
     "name": "stdout",
     "output_type": "stream",
     "text": [
      "Trial 10 Complete [00h 00m 01s]\n",
      "val_accuracy: 0.8837209343910217\n",
      "\n",
      "Best val_accuracy So Far: 0.8837209343910217\n",
      "Total elapsed time: 00h 00m 57s\n",
      "INFO:tensorflow:Oracle triggered exit\n"
     ]
    }
   ],
   "source": [
    "tuner.search(train_data_scaled, \n",
    "             train_label, \n",
    "             batch_size=100, \n",
    "             epochs=20, \n",
    "            validation_split=0.2)"
   ]
  },
  {
   "cell_type": "code",
   "execution_count": null,
   "metadata": {
    "id": "YDlJzL14GVXR"
   },
   "outputs": [],
   "source": [
    "tuner.results_summary(num_trials=3)"
   ]
  },
  {
   "cell_type": "markdown",
   "metadata": {
    "id": "tKXdY9aRoj7X"
   },
   "source": [
    "### 3.1.4 Best hyperparameters 확인/저장"
   ]
  },
  {
   "cell_type": "code",
   "execution_count": 51,
   "metadata": {
    "colab": {
     "base_uri": "https://localhost:8080/"
    },
    "executionInfo": {
     "elapsed": 255,
     "status": "ok",
     "timestamp": 1626999286540,
     "user": {
      "displayName": "박건우",
      "photoUrl": "https://lh3.googleusercontent.com/a-/AOh14GgFlyE8ayXc62fZE_N3bCvAUBwBI5fuDaHYLi24=s64",
      "userId": "06958141074934964431"
     },
     "user_tz": -540
    },
    "id": "XFbk0Bvo36HR",
    "outputId": "2aea9960-a607-4e1e-b771-2aef13cf9538"
   },
   "outputs": [
    {
     "name": "stdout",
     "output_type": "stream",
     "text": [
      "Model performance rank : 0\n",
      "{'num_layers': 3, 'units_0': 168, 'activation_0': 'relu', 'learning_rate': 0.01, 'units_1': 8, 'activation_1': 'elu', 'units_2': 232, 'activation_2': 'relu'}\n",
      "\n",
      "Model performance rank : 1\n",
      "{'num_layers': 3, 'units_0': 232, 'activation_0': 'relu', 'learning_rate': 0.01, 'units_1': 8, 'activation_1': 'elu', 'units_2': 232, 'activation_2': 'elu'}\n",
      "\n",
      "Model performance rank : 2\n",
      "{'num_layers': 3, 'units_0': 168, 'activation_0': 'relu', 'learning_rate': 0.01, 'units_1': 104, 'activation_1': 'elu', 'units_2': 168, 'activation_2': 'elu'}\n",
      "\n",
      "\n",
      "The hyperparameter search is complete. \n",
      "* Optimal # of layers : 3\n",
      "* Optimal value of the learning-rate : 0.01\n",
      "Layer 0 - # of Perceptrons : 168\n",
      "Layer 0 - Applied activation function : relu\n",
      "Layer 1 - # of Perceptrons : 8\n",
      "Layer 1 - Applied activation function : elu\n",
      "Layer 2 - # of Perceptrons : 232\n",
      "Layer 2 - Applied activation function : relu\n"
     ]
    }
   ],
   "source": [
    "top3_models = tuner.get_best_hyperparameters(num_trials=3)\n",
    "\n",
    "for idx, model in enumerate(top3_models):\n",
    "    print('Model performance rank :', idx)\n",
    "    print(model.values)\n",
    "    print()\n",
    "\n",
    "\n",
    "# Check the best trial's hyper-params\n",
    "\n",
    "best_hps = top3_models[0]\n",
    "\n",
    "print(\"\"\"\n",
    "The hyperparameter search is complete. \n",
    "* Optimal # of layers : {}\n",
    "* Optimal value of the learning-rate : {}\"\"\".format(best_hps.get('num_layers'), best_hps.get('learning_rate')))\n",
    "\n",
    "for layer_num in range(best_hps.get('num_layers')):\n",
    "    print('Layer {} - # of Perceptrons :'.format(layer_num), best_hps.get('units_' + str(layer_num)))\n",
    "    print('Layer {} - Applied activation function :'.format(layer_num), best_hps.get('activation_' + str(layer_num)))"
   ]
  },
  {
   "cell_type": "markdown",
   "metadata": {
    "id": "VKs33X7TIBqY"
   },
   "source": [
    "## 3.2 Deep Learning Result\n",
    "\n",
    "\n",
    "\n",
    "\n",
    "\n",
    "\n"
   ]
  },
  {
   "cell_type": "markdown",
   "metadata": {
    "id": "mipAfkZxv5bK"
   },
   "source": [
    "### 3.2.1 저장한 best model을 바로 적용"
   ]
  },
  {
   "cell_type": "code",
   "execution_count": 52,
   "metadata": {
    "colab": {
     "base_uri": "https://localhost:8080/"
    },
    "executionInfo": {
     "elapsed": 1124,
     "status": "ok",
     "timestamp": 1626999302533,
     "user": {
      "displayName": "박건우",
      "photoUrl": "https://lh3.googleusercontent.com/a-/AOh14GgFlyE8ayXc62fZE_N3bCvAUBwBI5fuDaHYLi24=s64",
      "userId": "06958141074934964431"
     },
     "user_tz": -540
    },
    "id": "oO2QFJn0L7z_",
    "outputId": "b1e97420-e9ed-469a-9c08-f45317c65a2e"
   },
   "outputs": [
    {
     "name": "stdout",
     "output_type": "stream",
     "text": [
      "Model: \"sequential\"\n",
      "_________________________________________________________________\n",
      "Layer (type)                 Output Shape              Param #   \n",
      "=================================================================\n",
      "dense (Dense)                (None, 16)                224       \n",
      "_________________________________________________________________\n",
      "dense_1 (Dense)              (None, 168)               2856      \n",
      "_________________________________________________________________\n",
      "dense_2 (Dense)              (None, 8)                 1352      \n",
      "_________________________________________________________________\n",
      "dense_3 (Dense)              (None, 232)               2088      \n",
      "_________________________________________________________________\n",
      "dense_4 (Dense)              (None, 2)                 466       \n",
      "=================================================================\n",
      "Total params: 6,986\n",
      "Trainable params: 6,986\n",
      "Non-trainable params: 0\n",
      "_________________________________________________________________\n",
      "\n",
      "3/3 [==============================] - 0s 4ms/step - loss: 0.8182 - accuracy: 0.8132\n",
      "Cross-entropy : 0.8182114958763123\n",
      "Accuracy : 0.8131868243217468\n"
     ]
    }
   ],
   "source": [
    "models = tuner.get_best_models(num_models=3)\n",
    "top_model = models[0]\n",
    "top_model.summary()\n",
    "print()\n",
    "\n",
    "results = top_model.evaluate(test_data_scaled, test_label)\n",
    "print('Cross-entropy :', results[0])\n",
    "print('Accuracy :', results[1])"
   ]
  },
  {
   "cell_type": "markdown",
   "metadata": {
    "id": "oubm8IpGwHaE"
   },
   "source": [
    "### 3.2.2 저장한 하이퍼파라미터를 바탕으로 새로 학습/적용"
   ]
  },
  {
   "cell_type": "markdown",
   "metadata": {
    "id": "uLvigV5lze4a"
   },
   "source": [
    "#### Callback Checkpoint"
   ]
  },
  {
   "cell_type": "code",
   "execution_count": 72,
   "metadata": {
    "executionInfo": {
     "elapsed": 283,
     "status": "ok",
     "timestamp": 1626999431973,
     "user": {
      "displayName": "박건우",
      "photoUrl": "https://lh3.googleusercontent.com/a-/AOh14GgFlyE8ayXc62fZE_N3bCvAUBwBI5fuDaHYLi24=s64",
      "userId": "06958141074934964431"
     },
     "user_tz": -540
    },
    "id": "ET2jldQanF1f"
   },
   "outputs": [],
   "source": [
    "# 모델 체크포인트 파일(중간 저장 모델)을 저장할 경로 설정 \n",
    "checkpoint_path = '/content/saved_model/my_model.h5'\n",
    "#saved_model/my_model\n",
    "#/content/saved_model/my_model.h5\n",
    "\n",
    "# \"ModelCheckpoint\" 콜백함수 객체 생성\n",
    "callback_checkpoint = tf.keras.callbacks.ModelCheckpoint(filepath=checkpoint_path, \n",
    "                                                         monitor='val_accuracy', \n",
    "                                                         save_best_only=True, \n",
    "                                                         verbose=0)"
   ]
  },
  {
   "cell_type": "markdown",
   "metadata": {
    "id": "8d497pkNVIAZ"
   },
   "source": [
    "#### Callback 경로 지정하고 학습"
   ]
  },
  {
   "cell_type": "code",
   "execution_count": null,
   "metadata": {
    "id": "3j5xYX3dOHqV"
   },
   "outputs": [],
   "source": [
    "model = tuner.hypermodel.build(best_hps)\n",
    "model.fit(train_data_scaled, \n",
    "          train_label, \n",
    "          batch_size = 100, \n",
    "          epochs = 100, \n",
    "          validation_split=0.2,\n",
    "          verbose = 1,\n",
    "          callbacks=[ callback_checkpoint ]\n",
    "          )"
   ]
  },
  {
   "cell_type": "markdown",
   "metadata": {
    "id": "uUOGt02iVYIX"
   },
   "source": [
    "#### 마지막 학습 완료 시점을 기준으로 한 모델 성능"
   ]
  },
  {
   "cell_type": "code",
   "execution_count": 77,
   "metadata": {
    "colab": {
     "base_uri": "https://localhost:8080/"
    },
    "executionInfo": {
     "elapsed": 7,
     "status": "ok",
     "timestamp": 1626999450417,
     "user": {
      "displayName": "박건우",
      "photoUrl": "https://lh3.googleusercontent.com/a-/AOh14GgFlyE8ayXc62fZE_N3bCvAUBwBI5fuDaHYLi24=s64",
      "userId": "06958141074934964431"
     },
     "user_tz": -540
    },
    "id": "E7PKK7qOcUw3",
    "outputId": "45d091bd-3438-4f63-fc4c-2bfa7461dfc3"
   },
   "outputs": [
    {
     "name": "stdout",
     "output_type": "stream",
     "text": [
      "3/3 [==============================] - 0s 4ms/step - loss: 2.1722 - accuracy: 0.7582\n",
      "Cross-entropy : 2.1722412109375\n",
      "Accuracy : 0.7582417726516724\n"
     ]
    }
   ],
   "source": [
    "# 마지막 학습 완료 시점을 기준으로 한 모델 성능\n",
    "results = model.evaluate(test_data_scaled, test_label)\n",
    "print('Cross-entropy :', results[0])\n",
    "print('Accuracy :', results[1])"
   ]
  },
  {
   "cell_type": "markdown",
   "metadata": {
    "id": "k6sWdeZnVeEv"
   },
   "source": [
    "#### val_accuracy를 기준으로 한 (저장된) 모델 성능"
   ]
  },
  {
   "cell_type": "code",
   "execution_count": 78,
   "metadata": {
    "colab": {
     "base_uri": "https://localhost:8080/"
    },
    "executionInfo": {
     "elapsed": 383,
     "status": "ok",
     "timestamp": 1626999450796,
     "user": {
      "displayName": "박건우",
      "photoUrl": "https://lh3.googleusercontent.com/a-/AOh14GgFlyE8ayXc62fZE_N3bCvAUBwBI5fuDaHYLi24=s64",
      "userId": "06958141074934964431"
     },
     "user_tz": -540
    },
    "id": "z22xsJacyCQp",
    "outputId": "943e7656-9183-4ae8-db66-5b6f440f072d"
   },
   "outputs": [
    {
     "name": "stdout",
     "output_type": "stream",
     "text": [
      "3/3 [==============================] - 0s 4ms/step - loss: 0.4866 - accuracy: 0.7802\n",
      "loss (cross-entropy) : 0.48656657338142395\n",
      "test accuracy : 0.7802197933197021\n"
     ]
    }
   ],
   "source": [
    "#Validation loss를 기준으로 한 (저장된) 모델 성능\n",
    "#saved_model/my_model\n",
    "#/content/saved_model/my_model.h5\n",
    "from keras.models import load_model\n",
    "model = load_model('/content/saved_model/my_model.h5')\n",
    "result = model.evaluate(test_data_scaled, test_label)\n",
    "print('loss (cross-entropy) :', result[0])\n",
    "print('test accuracy :', result[1])"
   ]
  }
 ],
 "metadata": {
  "accelerator": "GPU",
  "colab": {
   "collapsed_sections": [],
   "name": "Heart Attack -original.ipynb",
   "provenance": []
  },
  "kernelspec": {
   "display_name": "Python 3",
   "language": "python",
   "name": "python3"
  },
  "language_info": {
   "codemirror_mode": {
    "name": "ipython",
    "version": 3
   },
   "file_extension": ".py",
   "mimetype": "text/x-python",
   "name": "python",
   "nbconvert_exporter": "python",
   "pygments_lexer": "ipython3",
   "version": "3.7.3"
  },
  "widgets": {
   "application/vnd.jupyter.widget-state+json": {
    "2085a6d3d18746ba98b37ed1bcb756fb": {
     "model_module": "@jupyter-widgets/base",
     "model_name": "LayoutModel",
     "state": {
      "_model_module": "@jupyter-widgets/base",
      "_model_module_version": "1.2.0",
      "_model_name": "LayoutModel",
      "_view_count": null,
      "_view_module": "@jupyter-widgets/base",
      "_view_module_version": "1.2.0",
      "_view_name": "LayoutView",
      "align_content": null,
      "align_items": null,
      "align_self": null,
      "border": null,
      "bottom": null,
      "display": null,
      "flex": null,
      "flex_flow": null,
      "grid_area": null,
      "grid_auto_columns": null,
      "grid_auto_flow": null,
      "grid_auto_rows": null,
      "grid_column": null,
      "grid_gap": null,
      "grid_row": null,
      "grid_template_areas": null,
      "grid_template_columns": null,
      "grid_template_rows": null,
      "height": null,
      "justify_content": null,
      "justify_items": null,
      "left": null,
      "margin": null,
      "max_height": null,
      "max_width": null,
      "min_height": null,
      "min_width": null,
      "object_fit": null,
      "object_position": null,
      "order": null,
      "overflow": null,
      "overflow_x": null,
      "overflow_y": null,
      "padding": null,
      "right": null,
      "top": null,
      "visibility": null,
      "width": null
     }
    },
    "2b4ca611b1f94d6d843edc81363e964e": {
     "model_module": "@jupyter-widgets/controls",
     "model_name": "ProgressStyleModel",
     "state": {
      "_model_module": "@jupyter-widgets/controls",
      "_model_module_version": "1.5.0",
      "_model_name": "ProgressStyleModel",
      "_view_count": null,
      "_view_module": "@jupyter-widgets/base",
      "_view_module_version": "1.2.0",
      "_view_name": "StyleView",
      "bar_color": null,
      "description_width": ""
     }
    },
    "8ff407bb17b942b2901602dcdf71ae9c": {
     "model_module": "@jupyter-widgets/base",
     "model_name": "LayoutModel",
     "state": {
      "_model_module": "@jupyter-widgets/base",
      "_model_module_version": "1.2.0",
      "_model_name": "LayoutModel",
      "_view_count": null,
      "_view_module": "@jupyter-widgets/base",
      "_view_module_version": "1.2.0",
      "_view_name": "LayoutView",
      "align_content": null,
      "align_items": null,
      "align_self": null,
      "border": null,
      "bottom": null,
      "display": null,
      "flex": null,
      "flex_flow": null,
      "grid_area": null,
      "grid_auto_columns": null,
      "grid_auto_flow": null,
      "grid_auto_rows": null,
      "grid_column": null,
      "grid_gap": null,
      "grid_row": null,
      "grid_template_areas": null,
      "grid_template_columns": null,
      "grid_template_rows": null,
      "height": null,
      "justify_content": null,
      "justify_items": null,
      "left": null,
      "margin": null,
      "max_height": null,
      "max_width": null,
      "min_height": null,
      "min_width": null,
      "object_fit": null,
      "object_position": null,
      "order": null,
      "overflow": null,
      "overflow_x": null,
      "overflow_y": null,
      "padding": null,
      "right": null,
      "top": null,
      "visibility": null,
      "width": null
     }
    },
    "901e35064e864a378caea92b022118b6": {
     "model_module": "@jupyter-widgets/base",
     "model_name": "LayoutModel",
     "state": {
      "_model_module": "@jupyter-widgets/base",
      "_model_module_version": "1.2.0",
      "_model_name": "LayoutModel",
      "_view_count": null,
      "_view_module": "@jupyter-widgets/base",
      "_view_module_version": "1.2.0",
      "_view_name": "LayoutView",
      "align_content": null,
      "align_items": null,
      "align_self": null,
      "border": null,
      "bottom": null,
      "display": null,
      "flex": null,
      "flex_flow": null,
      "grid_area": null,
      "grid_auto_columns": null,
      "grid_auto_flow": null,
      "grid_auto_rows": null,
      "grid_column": null,
      "grid_gap": null,
      "grid_row": null,
      "grid_template_areas": null,
      "grid_template_columns": null,
      "grid_template_rows": null,
      "height": null,
      "justify_content": null,
      "justify_items": null,
      "left": null,
      "margin": null,
      "max_height": null,
      "max_width": null,
      "min_height": null,
      "min_width": null,
      "object_fit": null,
      "object_position": null,
      "order": null,
      "overflow": null,
      "overflow_x": null,
      "overflow_y": null,
      "padding": null,
      "right": null,
      "top": null,
      "visibility": null,
      "width": null
     }
    },
    "a9598603b5ae433ebdd97fbf04875b6f": {
     "model_module": "@jupyter-widgets/controls",
     "model_name": "ProgressStyleModel",
     "state": {
      "_model_module": "@jupyter-widgets/controls",
      "_model_module_version": "1.5.0",
      "_model_name": "ProgressStyleModel",
      "_view_count": null,
      "_view_module": "@jupyter-widgets/base",
      "_view_module_version": "1.2.0",
      "_view_name": "StyleView",
      "bar_color": null,
      "description_width": ""
     }
    },
    "ad0e69578bb741e8ab5815c6d83dfdbf": {
     "model_module": "@jupyter-widgets/controls",
     "model_name": "ProgressStyleModel",
     "state": {
      "_model_module": "@jupyter-widgets/controls",
      "_model_module_version": "1.5.0",
      "_model_name": "ProgressStyleModel",
      "_view_count": null,
      "_view_module": "@jupyter-widgets/base",
      "_view_module_version": "1.2.0",
      "_view_name": "StyleView",
      "bar_color": null,
      "description_width": ""
     }
    },
    "bc222172540d4be1b8603c1cdcb76f03": {
     "model_module": "@jupyter-widgets/controls",
     "model_name": "IntProgressModel",
     "state": {
      "_dom_classes": [],
      "_model_module": "@jupyter-widgets/controls",
      "_model_module_version": "1.5.0",
      "_model_name": "IntProgressModel",
      "_view_count": null,
      "_view_module": "@jupyter-widgets/controls",
      "_view_module_version": "1.5.0",
      "_view_name": "ProgressView",
      "bar_style": "",
      "description": "Processing: ",
      "description_tooltip": null,
      "layout": "IPY_MODEL_8ff407bb17b942b2901602dcdf71ae9c",
      "max": 5,
      "min": 0,
      "orientation": "horizontal",
      "style": "IPY_MODEL_a9598603b5ae433ebdd97fbf04875b6f",
      "value": 5
     }
    },
    "c59d33d12ef14a70b8bf5199207ef997": {
     "model_module": "@jupyter-widgets/controls",
     "model_name": "IntProgressModel",
     "state": {
      "_dom_classes": [],
      "_model_module": "@jupyter-widgets/controls",
      "_model_module_version": "1.5.0",
      "_model_name": "IntProgressModel",
      "_view_count": null,
      "_view_module": "@jupyter-widgets/controls",
      "_view_module_version": "1.5.0",
      "_view_name": "ProgressView",
      "bar_style": "",
      "description": "Processing: ",
      "description_tooltip": null,
      "layout": "IPY_MODEL_901e35064e864a378caea92b022118b6",
      "max": 6,
      "min": 0,
      "orientation": "horizontal",
      "style": "IPY_MODEL_2b4ca611b1f94d6d843edc81363e964e",
      "value": 6
     }
    },
    "ecb9357322c94b4c81d6072a36bcf95c": {
     "model_module": "@jupyter-widgets/controls",
     "model_name": "IntProgressModel",
     "state": {
      "_dom_classes": [],
      "_model_module": "@jupyter-widgets/controls",
      "_model_module_version": "1.5.0",
      "_model_name": "IntProgressModel",
      "_view_count": null,
      "_view_module": "@jupyter-widgets/controls",
      "_view_module_version": "1.5.0",
      "_view_name": "ProgressView",
      "bar_style": "",
      "description": "Processing: ",
      "description_tooltip": null,
      "layout": "IPY_MODEL_2085a6d3d18746ba98b37ed1bcb756fb",
      "max": 69,
      "min": 0,
      "orientation": "horizontal",
      "style": "IPY_MODEL_ad0e69578bb741e8ab5815c6d83dfdbf",
      "value": 69
     }
    }
   }
  }
 },
 "nbformat": 4,
 "nbformat_minor": 1
}
